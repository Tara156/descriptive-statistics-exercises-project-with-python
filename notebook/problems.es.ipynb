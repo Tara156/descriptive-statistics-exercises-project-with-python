{
    "cells": [
        {
            "cell_type": "markdown",
            "id": "ac622319",
            "metadata": {},
            "source": [
                "# Problemas de Estadística Descriptica"
            ]
        },
        {
            "cell_type": "markdown",
            "id": "5e0ab0d5",
            "metadata": {},
            "source": [
                "### Ejercicio 1\n",
                "\n",
                "Usaremos NumPy para obtener información y describir estadísticamente.\n",
                "\n",
                "- Generar un arreglo de 100 elementos que sigan una distribución normal.\n",
                "- Generar un arreglo de 100 elementos que sigan una distribución chi-cuadrado con 3 grados de libertad.\n",
                "- Calcular las métricas principales y las medidas estadísticas que mejor describan los dos vectores."
            ]
        },
        {
            "cell_type": "code",
            "execution_count": 1,
            "id": "df526fe0",
            "metadata": {},
            "outputs": [],
            "source": [
                "import numpy as np \n",
                "import pandas as pd \n",
                "import statistics as stats\n"
            ]
        },
        {
            "cell_type": "code",
            "execution_count": 2,
            "id": "34720ab6",
            "metadata": {},
            "outputs": [
                {
                    "data": {
                        "text/plain": [
                            "array([-2.09836082,  1.29799222,  0.79839319,  0.44229299,  0.56486931,\n",
                            "       -0.8790234 ,  0.59301893,  0.14669926, -1.31975644, -0.00533463,\n",
                            "       -0.70919465, -0.03505839,  0.46899539, -0.29820266, -0.25832472,\n",
                            "       -1.35076809, -0.21750449, -1.67085142, -2.01205799,  0.11429873,\n",
                            "        0.65828288,  0.97824918, -0.86798845,  0.14868472,  0.74582689,\n",
                            "        0.83962805, -0.09865341,  1.03163561,  0.51005456, -1.71175792,\n",
                            "       -1.65551304, -0.52772444, -0.04574693, -0.31055641,  1.04959743,\n",
                            "       -2.89637881,  0.26197179,  0.85603613,  1.323893  , -0.85888051,\n",
                            "       -0.69230105,  2.20980291,  1.72043877, -0.06374558, -0.58824703,\n",
                            "        1.31476522, -1.26897771, -1.49347237,  0.05808672,  0.28818958,\n",
                            "       -1.9259919 , -1.6730285 , -0.12644666, -0.41752486,  1.29624247,\n",
                            "       -1.37997272, -0.97422185, -0.57980298, -0.28489125, -1.60411566,\n",
                            "       -1.8627074 , -0.11758567,  0.23411507, -0.43825538, -0.16627126,\n",
                            "       -2.04620404, -0.61423553,  0.46142858,  1.25951939,  1.40811806,\n",
                            "       -0.09100657,  2.21280371,  1.16040526, -0.93814581,  0.34213079,\n",
                            "       -0.72630957, -2.97925096, -0.4135452 , -0.22865431, -0.24883748,\n",
                            "        0.58156715, -1.50629927, -0.64449826,  0.02626709,  0.67236416,\n",
                            "        0.88772895, -0.31462017,  1.07336239, -0.94938984,  1.04285589,\n",
                            "        0.71346225, -0.2285073 ,  1.19355192,  0.93234646,  1.53893012,\n",
                            "       -0.66093594, -2.39366623, -1.54939771, -1.26979853,  1.55830715])"
                        ]
                    },
                    "execution_count": 2,
                    "metadata": {},
                    "output_type": "execute_result"
                }
            ],
            "source": [
                "# TODO\n",
                "\n",
                "data_normal_dist = np.random.normal(loc = 0, scale = 1, size = 100)\n",
                "data_normal_dist"
            ]
        },
        {
            "cell_type": "code",
            "execution_count": 3,
            "id": "d4e55cbe",
            "metadata": {},
            "outputs": [
                {
                    "data": {
                        "text/plain": [
                            "array([2.5639297 , 2.40410334, 3.68495014, 4.30572695, 2.50318925,\n",
                            "       1.19963268, 0.34453766, 1.54447252, 4.02912428, 5.86682868,\n",
                            "       2.23480389, 1.49975138, 0.85154586, 3.64412033, 3.72928933,\n",
                            "       4.78816889, 0.39741881, 2.7126337 , 9.82583338, 3.06677945,\n",
                            "       4.66722163, 2.67785121, 4.0514594 , 4.49258397, 3.3774781 ,\n",
                            "       0.26809581, 3.74720709, 1.73683224, 0.90880001, 3.68963015,\n",
                            "       0.86214078, 0.29292544, 0.15664842, 6.09619231, 0.06556841,\n",
                            "       2.25232712, 2.06281991, 6.74987845, 2.70540229, 1.11076466,\n",
                            "       1.72071755, 0.39288265, 9.25392218, 3.17933698, 0.10029884,\n",
                            "       0.58816934, 2.0443432 , 0.33122389, 9.50409821, 3.0559597 ,\n",
                            "       0.37262281, 0.67804713, 4.50451167, 2.37564039, 3.90245378,\n",
                            "       1.13019804, 1.01547052, 7.31533012, 1.01242732, 0.60223064,\n",
                            "       3.45732274, 0.80567536, 0.56504088, 4.02801793, 2.68651711,\n",
                            "       0.62266987, 1.34138312, 7.75057201, 3.39942215, 0.54051844,\n",
                            "       2.33858859, 5.53465348, 4.9549304 , 1.2577069 , 0.03273897,\n",
                            "       1.00364197, 3.91816534, 6.55484296, 3.16144804, 7.03044476,\n",
                            "       1.87682215, 1.46520552, 3.37849326, 1.38339467, 5.28212481,\n",
                            "       1.16332905, 7.48073022, 1.85874631, 0.6476973 , 4.84392969,\n",
                            "       7.58612703, 2.94242808, 4.06882283, 7.19979222, 1.14784859,\n",
                            "       0.97586442, 5.95525921, 7.84339128, 2.24969854, 7.4861539 ])"
                        ]
                    },
                    "execution_count": 3,
                    "metadata": {},
                    "output_type": "execute_result"
                }
            ],
            "source": [
                "data_chi_dist = np.random.chisquare(df=3, size=100)\n",
                "data_chi_dist"
            ]
        },
        {
            "cell_type": "code",
            "execution_count": 4,
            "id": "b947d6cd",
            "metadata": {},
            "outputs": [
                {
                    "data": {
                        "text/html": [
                            "<div>\n",
                            "<style scoped>\n",
                            "    .dataframe tbody tr th:only-of-type {\n",
                            "        vertical-align: middle;\n",
                            "    }\n",
                            "\n",
                            "    .dataframe tbody tr th {\n",
                            "        vertical-align: top;\n",
                            "    }\n",
                            "\n",
                            "    .dataframe thead th {\n",
                            "        text-align: right;\n",
                            "    }\n",
                            "</style>\n",
                            "<table border=\"1\" class=\"dataframe\">\n",
                            "  <thead>\n",
                            "    <tr style=\"text-align: right;\">\n",
                            "      <th></th>\n",
                            "      <th>Value</th>\n",
                            "    </tr>\n",
                            "  </thead>\n",
                            "  <tbody>\n",
                            "    <tr>\n",
                            "      <th>0</th>\n",
                            "      <td>2.563930</td>\n",
                            "    </tr>\n",
                            "    <tr>\n",
                            "      <th>1</th>\n",
                            "      <td>2.404103</td>\n",
                            "    </tr>\n",
                            "    <tr>\n",
                            "      <th>2</th>\n",
                            "      <td>3.684950</td>\n",
                            "    </tr>\n",
                            "    <tr>\n",
                            "      <th>3</th>\n",
                            "      <td>4.305727</td>\n",
                            "    </tr>\n",
                            "    <tr>\n",
                            "      <th>4</th>\n",
                            "      <td>2.503189</td>\n",
                            "    </tr>\n",
                            "    <tr>\n",
                            "      <th>...</th>\n",
                            "      <td>...</td>\n",
                            "    </tr>\n",
                            "    <tr>\n",
                            "      <th>95</th>\n",
                            "      <td>0.975864</td>\n",
                            "    </tr>\n",
                            "    <tr>\n",
                            "      <th>96</th>\n",
                            "      <td>5.955259</td>\n",
                            "    </tr>\n",
                            "    <tr>\n",
                            "      <th>97</th>\n",
                            "      <td>7.843391</td>\n",
                            "    </tr>\n",
                            "    <tr>\n",
                            "      <th>98</th>\n",
                            "      <td>2.249699</td>\n",
                            "    </tr>\n",
                            "    <tr>\n",
                            "      <th>99</th>\n",
                            "      <td>7.486154</td>\n",
                            "    </tr>\n",
                            "  </tbody>\n",
                            "</table>\n",
                            "<p>100 rows × 1 columns</p>\n",
                            "</div>"
                        ],
                        "text/plain": [
                            "       Value\n",
                            "0   2.563930\n",
                            "1   2.404103\n",
                            "2   3.684950\n",
                            "3   4.305727\n",
                            "4   2.503189\n",
                            "..       ...\n",
                            "95  0.975864\n",
                            "96  5.955259\n",
                            "97  7.843391\n",
                            "98  2.249699\n",
                            "99  7.486154\n",
                            "\n",
                            "[100 rows x 1 columns]"
                        ]
                    },
                    "execution_count": 4,
                    "metadata": {},
                    "output_type": "execute_result"
                }
            ],
            "source": [
                "# Los convierto en Dataframes \n",
                "df_normal = pd.DataFrame(data_normal_dist)\n",
                "df_normal.columns = [\"Value\"]\n",
                "df_normal\n",
                "\n",
                "df_chisquare = pd.DataFrame(data_chi_dist)\n",
                "df_chisquare.columns = [\"Value\"]\n",
                "df_chisquare"
            ]
        },
        {
            "cell_type": "code",
            "execution_count": 5,
            "id": "2fc95168",
            "metadata": {},
            "outputs": [
                {
                    "name": "stdout",
                    "output_type": "stream",
                    "text": [
                        "            Value\n",
                        "count  100.000000\n",
                        "mean    -0.162713\n",
                        "std      1.117374\n",
                        "min     -2.979251\n",
                        "25%     -0.870747\n",
                        "50%     -0.122016\n",
                        "75%      0.682639\n",
                        "max      2.212804\n",
                        "            Value\n",
                        "count  100.000000\n",
                        "mean     3.040687\n",
                        "std      2.425460\n",
                        "min      0.032739\n",
                        "25%      1.014710\n",
                        "50%      2.533559\n",
                        "75%      4.128049\n",
                        "max      9.825833\n"
                    ]
                }
            ],
            "source": [
                "# Aplico describe a cada uno de los DF \n",
                "\n",
                "print(df_normal.describe())\n",
                "print(df_chisquare.describe())\n"
            ]
        },
        {
            "cell_type": "code",
            "execution_count": 6,
            "id": "b19850e1",
            "metadata": {},
            "outputs": [
                {
                    "name": "stdout",
                    "output_type": "stream",
                    "text": [
                        "La media del DF con distribución normal es: -0.16271289886288545\n",
                        "La media del DF con distribución chisquare es: 3.0406871270073537\n",
                        "La mmoda del DF con distribución normal es: -2.0983608216317218\n",
                        "La moda del DF con distribución chisquare es: 2.5639296974727435\n",
                        "La mediana del DF con distribución normal es: -0.12201616929427658\n",
                        "La mediana del DF con distribución chisquare es: 2.5335594749170354\n"
                    ]
                }
            ],
            "source": [
                "# Calculo media, mediana y moda para ambas \n",
                "\n",
                "# Media \n",
                "\n",
                "df_normal_mean = np.mean(df_normal)\n",
                "df_chisquare_mean = np.mean(df_chisquare)\n",
                "\n",
                "print(f\"La media del DF con distribución normal es: {df_normal_mean}\")\n",
                "print(f\"La media del DF con distribución chisquare es: {df_chisquare_mean}\")\n",
                "\n",
                "# Moda \n",
                "\n",
                "df_normal_mode = stats.mode(df_normal[\"Value\"])\n",
                "df_chisquare_mode = stats.mode(df_chisquare[\"Value\"])\n",
                "\n",
                "print(f\"La mmoda del DF con distribución normal es: {df_normal_mode}\")\n",
                "print(f\"La moda del DF con distribución chisquare es: {df_chisquare_mode}\")\n",
                "\n",
                "# Mediana \n",
                "\n",
                "df_normal_median = stats.median(df_normal[\"Value\"])\n",
                "df_chisquare_median= stats.median(df_chisquare[\"Value\"])\n",
                "\n",
                "print(f\"La mediana del DF con distribución normal es: {df_normal_median}\")\n",
                "print(f\"La mediana del DF con distribución chisquare es: {df_chisquare_median}\")\n"
            ]
        },
        {
            "cell_type": "code",
            "execution_count": 7,
            "id": "19b1a7f4",
            "metadata": {},
            "outputs": [
                {
                    "name": "stdout",
                    "output_type": "stream",
                    "text": [
                        "El rango del DF con distribución normal es: 5.192054672002875\n",
                        "El rango del DF con distribución chisquare es: 9.79309440961129\n",
                        "La Varianza del DF con distribución normal es: 1.248524731521271\n",
                        "La Varianza del DF con distribución chisquare es: 5.882856458333194\n",
                        "La Desviación estandar del DF con distribución normal es: 1.111773126229474\n",
                        "La Desviación estandar del DF con distribución chisquare es: 2.4133022798128425\n"
                    ]
                }
            ],
            "source": [
                "# Calcular rango, varianza y desviación estandar \n",
                "\n",
                "# Rango \n",
                "\n",
                "df_normal_max_value = np.max(df_normal[\"Value\"])\n",
                "df_normal_min_value = np.min(df_normal[\"Value\"])\n",
                "df_normal_range = df_normal_max_value - df_normal_min_value\n",
                "\n",
                "print(f\"El rango del DF con distribución normal es: {df_normal_range}\")\n",
                "\n",
                "\n",
                "df_chisquare_max_value = np.max(df_chisquare[\"Value\"])\n",
                "df_chisquare_min_value = np.min(df_chisquare[\"Value\"])\n",
                "df_chisquare_range = df_chisquare_max_value - df_chisquare_min_value\n",
                "\n",
                "print(f\"El rango del DF con distribución chisquare es: {df_chisquare_range}\")\n",
                "\n",
                "# Varianza \n",
                "\n",
                "df_normal_var = stats.variance(df_normal[\"Value\"])\n",
                "print(f\"La Varianza del DF con distribución normal es: {df_normal_var}\")\n",
                "\n",
                "df_chisquare_var = stats.variance(df_chisquare[\"Value\"])\n",
                "print(f\"La Varianza del DF con distribución chisquare es: {df_chisquare_var}\")\n",
                "\n",
                "# Desviación estandar \n",
                "\n",
                "df_normal_dev_std = np.std(df_normal[\"Value\"])\n",
                "print(f\"La Desviación estandar del DF con distribución normal es: {df_normal_dev_std}\")\n",
                "\n",
                "df_chisquare_dev_std = np.std(df_chisquare[\"Value\"])\n",
                "print(f\"La Desviación estandar del DF con distribución chisquare es: {df_chisquare_dev_std}\")\n"
            ]
        },
        {
            "cell_type": "code",
            "execution_count": 8,
            "id": "067f7107",
            "metadata": {},
            "outputs": [
                {
                    "name": "stdout",
                    "output_type": "stream",
                    "text": [
                        "Asimetría del DF con distribución normal: -0.24150659859692497 Asimetría del DF con ditribución chisquare: 0.9004609090661715\n",
                        "Curtosis del DF con distribución normal: -0.41232716662973745 Curtosis del DF con ditribución chisquare: 0.054667121085727466\n"
                    ]
                }
            ],
            "source": [
                "# Luego de comparar con la solución vi que me faltaba esto que no conocia. \n",
                "\n",
                "# Asimetria y Curtosis \n",
                "\n",
                "# Asimetría: Mide la simetría de los datos (si están sesgados a la derecha o a la izquierda).\n",
                "\n",
                "from scipy.stats import skew, kurtosis \n",
                "\n",
                "skewkness_df_normal = skew(df_normal[\"Value\"])\n",
                "skewkness_df_chisquare = skew(df_chisquare[\"Value\"])\n",
                "\n",
                "print(f\"Asimetría del DF con distribución normal: {skewkness_df_normal} Asimetría del DF con ditribución chisquare: {skewkness_df_chisquare}\")\n",
                "\n",
                "# Curtosis: Mide la \"altitud\" de las colas de la distribución (si son más altas o más bajas que la distribución normal).\n",
                "\n",
                "kurtosis_df_normal = kurtosis(df_normal[\"Value\"])\n",
                "kurtosis_df_chisquare = kurtosis(df_chisquare[\"Value\"])\n",
                "\n",
                "print(f\"Curtosis del DF con distribución normal: {kurtosis_df_normal} Curtosis del DF con ditribución chisquare: {kurtosis_df_chisquare}\")\n",
                "\n",
                "\n",
                "\n",
                "\n"
            ]
        },
        {
            "cell_type": "markdown",
            "id": "46c70c3d",
            "metadata": {},
            "source": [
                "### Ejercicio 2\n",
                "\n",
                "Escribe un programa en Python para calcular la desviación estándar de los siguientes datos:\n",
                "\n",
                "```py\n",
                "data = [4, 2, 5, 8, 6]\n",
                "```"
            ]
        },
        {
            "cell_type": "code",
            "execution_count": 9,
            "id": "d590308e",
            "metadata": {},
            "outputs": [
                {
                    "name": "stdout",
                    "output_type": "stream",
                    "text": [
                        "La desviación estandar de [4, 2, 5, 8, 6] es 2.0\n"
                    ]
                }
            ],
            "source": [
                "# TODO\n",
                "from math import sqrt \n",
                "\n",
                "data = [4,2,5,8,6]\n",
                "\n",
                "# df = pd.DataFrame(data)\n",
                "# df.columns = [\"Value\"]\n",
                "# df_dev_std = np.std(df[\"Value\"])\n",
                "# print(df_dev_std)\n",
                "\n",
                "count = 0\n",
                "for i in data: \n",
                "    count += i\n",
                "df_mean = count / len(data) \n",
                "\n",
                "df_mean\n",
                "\n",
                "result = 0 \n",
                "for i in data: \n",
                "    result += (i - df_mean)**2 \n",
                "\n",
                "output = result / len(data)\n",
                "\n",
                "scuare_root = sqrt(output) \n",
                "scuare_root \n",
                "\n",
                "print(f\"\"\"La desviación estandar de {data} es {scuare_root}\"\"\")\n",
                "\n"
            ]
        }
    ],
    "metadata": {
        "kernelspec": {
            "display_name": "Python 3",
            "language": "python",
            "name": "python3"
        },
        "language_info": {
            "codemirror_mode": {
                "name": "ipython",
                "version": 3
            },
            "file_extension": ".py",
            "mimetype": "text/x-python",
            "name": "python",
            "nbconvert_exporter": "python",
            "pygments_lexer": "ipython3",
            "version": "3.11.4"
        }
    },
    "nbformat": 4,
    "nbformat_minor": 5
}
